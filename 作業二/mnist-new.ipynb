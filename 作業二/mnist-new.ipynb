{
 "cells": [
  {
   "cell_type": "code",
   "execution_count": 1,
   "metadata": {},
   "outputs": [],
   "source": [
    "import pandas as pd\n",
    "import numpy as np\n",
    "import torch\n",
    "\n",
    "from torch import nn, optim\n",
    "from torch.autograd import Variable\n",
    "import torch.nn.functional as F\n",
    "\n",
    "from sklearn.utils import shuffle\n",
    "import pandas as pd"
   ]
  },
  {
   "cell_type": "code",
   "execution_count": 2,
   "metadata": {},
   "outputs": [],
   "source": [
    "class LeNet(nn.Module):\n",
    "\tdef __init__(self):\n",
    "\t\tsuper(LeNet, self).__init__()\n",
    "\t\tself.conv1 = nn.Conv2d(1, 32, (3,3))\n",
    "\t\tself.conv2 = nn.Conv2d(32, 64, (3,3))\n",
    "\t\tself.conv3 = nn.Conv2d(64, 64, (3,3))\n",
    "\t\tself.fc1   = nn.Linear(1600, 128)\n",
    "\t\tself.fc2   = nn.Linear(128, 10)\n",
    "\tdef forward(self, x):\n",
    "\t\tx = F.relu(self.conv1(x))\n",
    "\t\tx = F.relu(self.conv2(x))\n",
    "\t\tx = F.max_pool2d(x, 2, 2)\n",
    "\t\tx = F.dropout(x, p=0.25, training=self.training)\n",
    "\t\tx = F.relu(self.conv3(x))\n",
    "\t\tx = F.max_pool2d(x, 2, 2)\n",
    "\t\tx = F.dropout(x, p=0.35, training=self.training)\n",
    "\n",
    "\t\tx = x.view(-1, self.num_flat_features(x))\n",
    "\t\tx = F.relu(self.fc1(x))\n",
    "\t\tx = F.dropout(x, p=0.5, training=self.training)\n",
    "\t\tx = self.fc2(x)\n",
    "\t\treturn x\n",
    "\tdef num_flat_features(self, x):\n",
    "\t\tsize = x.size()[1:]\n",
    "\t\tnum_features = 1\n",
    "\t\tfor s in size:\n",
    "\t\t\tnum_features *= s\n",
    "\t\treturn num_features\n"
   ]
  },
  {
   "cell_type": "code",
   "execution_count": 3,
   "metadata": {},
   "outputs": [
    {
     "name": "stdout",
     "output_type": "stream",
     "text": [
      "LeNet(\n",
      "  (conv1): Conv2d(1, 32, kernel_size=(3, 3), stride=(1, 1))\n",
      "  (conv2): Conv2d(32, 64, kernel_size=(3, 3), stride=(1, 1))\n",
      "  (conv3): Conv2d(64, 64, kernel_size=(3, 3), stride=(1, 1))\n",
      "  (fc1): Linear(in_features=1600, out_features=128, bias=True)\n",
      "  (fc2): Linear(in_features=128, out_features=10, bias=True)\n",
      ")\n"
     ]
    }
   ],
   "source": [
    "net = LeNet()\n",
    "print (net)"
   ]
  },
  {
   "cell_type": "code",
   "execution_count": 4,
   "metadata": {},
   "outputs": [
    {
     "name": "stdout",
     "output_type": "stream",
     "text": [
      "USE GPU\n"
     ]
    }
   ],
   "source": [
    "use_gpu = torch.cuda.is_available()\n",
    "if use_gpu:\n",
    "\tnet = net.cuda()\n",
    "\tprint ('USE GPU')\n",
    "else:\n",
    "\tprint ('USE CPU')"
   ]
  },
  {
   "cell_type": "code",
   "execution_count": 5,
   "metadata": {},
   "outputs": [
    {
     "name": "stdout",
     "output_type": "stream",
     "text": [
      "1. Loading data\n"
     ]
    }
   ],
   "source": [
    "criterion = nn.CrossEntropyLoss()\n",
    "optimizer = optim.SGD(net.parameters(), lr=0.001)\n",
    "\n",
    "print (\"1. Loading data\")\n",
    "train = pd.read_csv(\"train.csv\").values\n",
    "train = shuffle(train)\n",
    "test  = pd.read_csv(\"test.csv\").values"
   ]
  },
  {
   "cell_type": "code",
   "execution_count": 6,
   "metadata": {},
   "outputs": [
    {
     "name": "stdout",
     "output_type": "stream",
     "text": [
      "2. Converting data\n",
      "torch.Size([42000, 1, 28, 28]) torch.Size([42000, 1])\n"
     ]
    }
   ],
   "source": [
    "print (\"2. Converting data\")\n",
    "X_data  = train[:, 1:].reshape(train.shape[0], 1, 28, 28)\n",
    "X_data  = X_data.astype(float)\n",
    "X_data /= 255.0\n",
    "X_data  = torch.from_numpy(X_data);\n",
    "X_label = train[:,0];\n",
    "X_label = X_label.astype(int);\n",
    "X_label = torch.from_numpy(X_label);\n",
    "X_label = X_label.view(train.shape[0],-1);\n",
    "print (X_data.size(), X_label.size())"
   ]
  },
  {
   "cell_type": "code",
   "execution_count": 7,
   "metadata": {},
   "outputs": [
    {
     "name": "stdout",
     "output_type": "stream",
     "text": [
      "3. Training phase\n"
     ]
    }
   ],
   "source": [
    "print (\"3. Training phase\")\n",
    "nb_train = train.shape[0]\n",
    "nb_epoch = 30000\n",
    "nb_index = 0\n",
    "nb_batch = 16"
   ]
  },
  {
   "cell_type": "code",
   "execution_count": 8,
   "metadata": {},
   "outputs": [
    {
     "name": "stdout",
     "output_type": "stream",
     "text": [
      "Epoch = 2000, Loss = 2.270382\n",
      "Epoch = 4000, Loss = 2.214530\n",
      "Epoch = 6000, Loss = 0.850757\n",
      "Epoch = 8000, Loss = 0.582284\n",
      "Epoch = 10000, Loss = 0.520223\n",
      "Epoch = 12000, Loss = 0.594253\n",
      "Epoch = 14000, Loss = 0.149828\n",
      "Epoch = 16000, Loss = 0.168479\n",
      "Epoch = 18000, Loss = 0.113711\n",
      "Epoch = 20000, Loss = 0.142033\n",
      "Epoch = 22000, Loss = 0.165984\n",
      "Epoch = 24000, Loss = 0.327500\n",
      "Epoch = 26000, Loss = 0.282366\n",
      "Epoch = 28000, Loss = 0.037631\n",
      "Epoch = 30000, Loss = 0.318886\n"
     ]
    }
   ],
   "source": [
    "for epoch in range(nb_epoch):\n",
    "\tif nb_index + nb_batch >= nb_train:\n",
    "\t\tnb_index = 0\n",
    "\telse:\n",
    "\t\tnb_index = nb_index + nb_batch\n",
    "\n",
    "\tmini_data  = Variable(X_data[nb_index:(nb_index+nb_batch)].clone())\n",
    "\tmini_label = Variable(X_label[nb_index:(nb_index+nb_batch)].clone(), requires_grad = False)\n",
    "\tmini_data  = mini_data.type(torch.FloatTensor)\n",
    "\tmini_label = mini_label.type(torch.LongTensor)\n",
    "\tif use_gpu:\n",
    "\t\tmini_data  = mini_data.cuda()\n",
    "\t\tmini_label = mini_label.cuda()\n",
    "\toptimizer.zero_grad()\n",
    "\tmini_out   = net(mini_data)\n",
    "\tmini_label = mini_label.view(nb_batch)\n",
    "\tmini_loss  = criterion(mini_out, mini_label)\n",
    "\tmini_loss.backward()\n",
    "\toptimizer.step()\n",
    "\n",
    "\tif (epoch + 1) % 2000 == 0:\n",
    "\t\tprint(\"Epoch = %d, Loss = %f\" %(epoch+1, mini_loss.data))\n",
    "        #print(\"Epoch = %d, Loss = %f\" %(epoch+1, mini_loss.data[0]))\n"
   ]
  },
  {
   "cell_type": "code",
   "execution_count": 9,
   "metadata": {},
   "outputs": [
    {
     "name": "stdout",
     "output_type": "stream",
     "text": [
      "4. Testing phase\n",
      "torch.Size([28000, 1, 28, 28])\n"
     ]
    }
   ],
   "source": [
    "print (\"4. Testing phase\")\n",
    "\n",
    "Y_data  = test.reshape(test.shape[0], 1, 28, 28)\n",
    "Y_data  = Y_data.astype(float)\n",
    "Y_data /= 255.0\n",
    "Y_data  = torch.from_numpy(Y_data);\n",
    "print (Y_data.size())\n",
    "nb_test = test.shape[0]\n",
    "\n",
    "net.eval()\n",
    "\n",
    "final_prediction = np.ndarray(shape = (nb_test, 2), dtype=int)"
   ]
  },
  {
   "cell_type": "code",
   "execution_count": 10,
   "metadata": {},
   "outputs": [
    {
     "name": "stdout",
     "output_type": "stream",
     "text": [
      "Total tested = 2000\n",
      "Total tested = 4000\n",
      "Total tested = 6000\n",
      "Total tested = 8000\n",
      "Total tested = 10000\n",
      "Total tested = 12000\n",
      "Total tested = 14000\n",
      "Total tested = 16000\n",
      "Total tested = 18000\n",
      "Total tested = 20000\n",
      "Total tested = 22000\n",
      "Total tested = 24000\n",
      "Total tested = 26000\n",
      "Total tested = 28000\n"
     ]
    }
   ],
   "source": [
    "for each_sample in range(nb_test):\n",
    "\tsample_data = Variable(Y_data[each_sample:each_sample+1].clone())\n",
    "\tsample_data = sample_data.type(torch.FloatTensor)\n",
    "\tif use_gpu:\n",
    "\t\tsample_data = sample_data.cuda()\n",
    "\tsample_out = net(sample_data)\n",
    "\t_, pred = torch.max(sample_out, 1)\n",
    "\tfinal_prediction[each_sample][0] = 1 + each_sample\n",
    "\tfinal_prediction[each_sample][1] = pred.data\n",
    "\tif (each_sample + 1) % 2000 == 0:\n",
    "\t\tprint(\"Total tested = %d\" %(each_sample + 1))"
   ]
  },
  {
   "cell_type": "code",
   "execution_count": 11,
   "metadata": {},
   "outputs": [
    {
     "name": "stdout",
     "output_type": "stream",
     "text": [
      "5. Generating submission file\n"
     ]
    }
   ],
   "source": [
    "print ('5. Generating submission file')\n",
    "\n",
    "submission = pd.DataFrame(final_prediction, dtype=int, columns=['ImageId', 'Label'])\n",
    "submission.to_csv('pytorch_new.csv', index=False, header=True)\n",
    "\n",
    "# end"
   ]
  },
  {
   "cell_type": "code",
   "execution_count": null,
   "metadata": {},
   "outputs": [],
   "source": []
  }
 ],
 "metadata": {
  "kernelspec": {
   "display_name": "Python 3",
   "language": "python",
   "name": "python3"
  },
  "language_info": {
   "codemirror_mode": {
    "name": "ipython",
    "version": 3
   },
   "file_extension": ".py",
   "mimetype": "text/x-python",
   "name": "python",
   "nbconvert_exporter": "python",
   "pygments_lexer": "ipython3",
   "version": "3.6.8"
  }
 },
 "nbformat": 4,
 "nbformat_minor": 2
}
